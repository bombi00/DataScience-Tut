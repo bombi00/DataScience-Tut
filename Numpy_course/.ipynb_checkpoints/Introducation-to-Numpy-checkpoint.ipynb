{
 "cells": [
  {
   "cell_type": "code",
   "execution_count": 1,
   "id": "2f8231bf-9ff8-4e5d-8793-2ec8ad8ebeb3",
   "metadata": {},
   "outputs": [],
   "source": [
    "import numpy as np"
   ]
  },
  {
   "cell_type": "markdown",
   "id": "c4e6334f-2c6a-442a-8ea5-41b7253157c4",
   "metadata": {},
   "source": [
    "## Datatypes and Attributes"
   ]
  },
  {
   "cell_type": "code",
   "execution_count": 4,
   "id": "e4160b98-6ace-4cb6-a05c-0a3d91e2615e",
   "metadata": {},
   "outputs": [
    {
     "data": {
      "text/plain": [
       "array([1, 2, 4])"
      ]
     },
     "execution_count": 4,
     "metadata": {},
     "output_type": "execute_result"
    }
   ],
   "source": [
    "#This is a numpy ndarray n dimensional array, the first one i 1 dimensional\n",
    "a1 = np.array([1, 2, 4])\n",
    "a1"
   ]
  },
  {
   "cell_type": "code",
   "execution_count": 5,
   "id": "99dc29e4-2c67-4d44-97d9-cebd3923d7ff",
   "metadata": {},
   "outputs": [
    {
     "data": {
      "text/plain": [
       "array([[1. , 2. , 3. ],\n",
       "       [2.3, 5. , 6. ]])"
      ]
     },
     "execution_count": 5,
     "metadata": {},
     "output_type": "execute_result"
    }
   ],
   "source": [
    "#2 dimensional array\n",
    "a2 = np.array([[1,2,3],\n",
    "               [2.3,5,6]])\n",
    "a2"
   ]
  },
  {
   "cell_type": "code",
   "execution_count": 9,
   "id": "a62c6a51-158c-4b94-a36b-c11580579b5b",
   "metadata": {},
   "outputs": [
    {
     "data": {
      "text/plain": [
       "(3, 2, 3)"
      ]
     },
     "execution_count": 9,
     "metadata": {},
     "output_type": "execute_result"
    }
   ],
   "source": [
    "#3 dimensional array\n",
    "a3 = np.array([[[1,2,3],\n",
    "                [2,3,4]],\n",
    "               [[3,4,5],\n",
    "                [4,5,6]],\n",
    "               [[5,6,7],\n",
    "                [6,7,8]]])\n",
    "a3.shape"
   ]
  },
  {
   "cell_type": "code",
   "execution_count": 15,
   "id": "2c5f8700-426d-4ff4-bc7e-edd6101861a1",
   "metadata": {},
   "outputs": [
    {
     "data": {
      "text/plain": [
       "(1, 2, 3)"
      ]
     },
     "execution_count": 15,
     "metadata": {},
     "output_type": "execute_result"
    }
   ],
   "source": [
    "#return n dimension\n",
    "a1.ndim, a2.ndim, a3.ndim"
   ]
  },
  {
   "cell_type": "code",
   "execution_count": 14,
   "id": "9c22b053-88c6-4f65-b10a-9eac93dae49a",
   "metadata": {},
   "outputs": [
    {
     "data": {
      "text/plain": [
       "(3, 6, 18)"
      ]
     },
     "execution_count": 14,
     "metadata": {},
     "output_type": "execute_result"
    }
   ],
   "source": [
    "# return the n element of the array\n",
    "a1.size, a2.size, a3.size"
   ]
  },
  {
   "cell_type": "code",
   "execution_count": 17,
   "id": "9ad88af3-80e8-4b35-b3ae-e7dfdfbf8f11",
   "metadata": {},
   "outputs": [
    {
     "data": {
      "text/plain": [
       "(numpy.ndarray, numpy.ndarray, numpy.ndarray)"
      ]
     },
     "execution_count": 17,
     "metadata": {},
     "output_type": "execute_result"
    }
   ],
   "source": [
    "#type of array \n",
    "type(a1), type(a2), type(a3)"
   ]
  },
  {
   "cell_type": "code",
   "execution_count": 18,
   "id": "887a20d5-f47f-499e-8de3-55d2dafd5de3",
   "metadata": {},
   "outputs": [
    {
     "data": {
      "text/html": [
       "<div>\n",
       "<style scoped>\n",
       "    .dataframe tbody tr th:only-of-type {\n",
       "        vertical-align: middle;\n",
       "    }\n",
       "\n",
       "    .dataframe tbody tr th {\n",
       "        vertical-align: top;\n",
       "    }\n",
       "\n",
       "    .dataframe thead th {\n",
       "        text-align: right;\n",
       "    }\n",
       "</style>\n",
       "<table border=\"1\" class=\"dataframe\">\n",
       "  <thead>\n",
       "    <tr style=\"text-align: right;\">\n",
       "      <th></th>\n",
       "      <th>0</th>\n",
       "      <th>1</th>\n",
       "      <th>2</th>\n",
       "    </tr>\n",
       "  </thead>\n",
       "  <tbody>\n",
       "    <tr>\n",
       "      <th>0</th>\n",
       "      <td>1.0</td>\n",
       "      <td>2.0</td>\n",
       "      <td>3.0</td>\n",
       "    </tr>\n",
       "    <tr>\n",
       "      <th>1</th>\n",
       "      <td>2.3</td>\n",
       "      <td>5.0</td>\n",
       "      <td>6.0</td>\n",
       "    </tr>\n",
       "  </tbody>\n",
       "</table>\n",
       "</div>"
      ],
      "text/plain": [
       "     0    1    2\n",
       "0  1.0  2.0  3.0\n",
       "1  2.3  5.0  6.0"
      ]
     },
     "execution_count": 18,
     "metadata": {},
     "output_type": "execute_result"
    }
   ],
   "source": [
    "#Create a Dataframe from a Numpy array\n",
    "import pandas as pd\n",
    "\n",
    "df = pd.DataFrame(a2)\n",
    "df"
   ]
  },
  {
   "cell_type": "code",
   "execution_count": 23,
   "id": "a9ec315e-1caf-40e9-9aa8-bdb38c882d34",
   "metadata": {},
   "outputs": [
    {
     "data": {
      "text/plain": [
       "array([[0., 0., 0.],\n",
       "       [0., 0., 0.],\n",
       "       [0., 0., 0.]])"
      ]
     },
     "execution_count": 23,
     "metadata": {},
     "output_type": "execute_result"
    }
   ],
   "source": [
    "a3 = np.zeros((3,3))\n",
    "a3"
   ]
  },
  {
   "cell_type": "markdown",
   "id": "e9ed455a-6654-4bc0-9ff2-d8b97683e0b6",
   "metadata": {},
   "source": [
    "## Creating arrays"
   ]
  },
  {
   "cell_type": "code",
   "execution_count": 28,
   "id": "d5e59c69-901d-4d4f-bc99-b4a426094d1c",
   "metadata": {},
   "outputs": [],
   "source": [
    "#Array fill with 1, we can choose the data type of the array by setting it with dtype\n",
    "one = np.ones((2,3), dtype=int)"
   ]
  },
  {
   "cell_type": "code",
   "execution_count": 29,
   "id": "45d35002-d3db-4ec4-9380-9b521b044e80",
   "metadata": {},
   "outputs": [
    {
     "data": {
      "text/plain": [
       "array([[1, 1, 1],\n",
       "       [1, 1, 1]])"
      ]
     },
     "execution_count": 29,
     "metadata": {},
     "output_type": "execute_result"
    }
   ],
   "source": [
    "one"
   ]
  },
  {
   "cell_type": "code",
   "execution_count": 31,
   "id": "e31ee293-874a-422b-bb33-9baf6cc5923c",
   "metadata": {},
   "outputs": [
    {
     "data": {
      "text/plain": [
       "array([ 0,  3,  6,  9, 12, 15, 18, 21, 24, 27, 30, 33, 36, 39, 42, 45, 48,\n",
       "       51, 54, 57, 60, 63, 66, 69, 72, 75, 78, 81, 84, 87, 90, 93, 96, 99])"
      ]
     },
     "execution_count": 31,
     "metadata": {},
     "output_type": "execute_result"
    }
   ],
   "source": [
    "range = np.arange(0,100,3)\n",
    "range"
   ]
  },
  {
   "cell_type": "code",
   "execution_count": 32,
   "id": "fa163651-c36c-4151-a703-40b5ea7ab4cb",
   "metadata": {},
   "outputs": [
    {
     "data": {
      "text/plain": [
       "array([[3, 0, 0],\n",
       "       [4, 3, 7],\n",
       "       [0, 2, 8]])"
      ]
     },
     "execution_count": 32,
     "metadata": {},
     "output_type": "execute_result"
    }
   ],
   "source": [
    "random = np.random.randint(0,10,size=(3,3))\n",
    "random"
   ]
  },
  {
   "cell_type": "code",
   "execution_count": 35,
   "id": "426f25e0-df26-4cd9-ac2d-5cbcff20b61d",
   "metadata": {},
   "outputs": [
    {
     "data": {
      "text/plain": [
       "array([[0.10782504, 0.00746688],\n",
       "       [0.2579299 , 0.01309173],\n",
       "       [0.74992692, 0.23742636],\n",
       "       [0.58885272, 0.54223821],\n",
       "       [0.31735082, 0.94105114]])"
      ]
     },
     "execution_count": 35,
     "metadata": {},
     "output_type": "execute_result"
    }
   ],
   "source": [
    "#Random arrays with floating numbers\n",
    "random2 = np.random.random((5,2))\n",
    "random2"
   ]
  },
  {
   "cell_type": "code",
   "execution_count": 37,
   "id": "004838b5-45a4-4107-8dbf-d675c7ed93d3",
   "metadata": {},
   "outputs": [
    {
     "data": {
      "text/plain": [
       "array([[0.05554177, 0.15962279, 0.96733508],\n",
       "       [0.67934289, 0.83316762, 0.90756308],\n",
       "       [0.89732248, 0.91102022, 0.63175136],\n",
       "       [0.45387606, 0.63866123, 0.61146734],\n",
       "       [0.65523641, 0.36490772, 0.10780592]])"
      ]
     },
     "execution_count": 37,
     "metadata": {},
     "output_type": "execute_result"
    }
   ],
   "source": [
    "random3 = np.random.rand(5,3)\n",
    "random3"
   ]
  },
  {
   "cell_type": "markdown",
   "id": "91ceb6a2-2d16-4155-8511-ea5fa31fab9c",
   "metadata": {},
   "source": [
    "##  Viewing arrays and matrices"
   ]
  },
  {
   "cell_type": "code",
   "execution_count": 39,
   "id": "84a2f211-7d8b-4ece-a488-434ef5a83741",
   "metadata": {},
   "outputs": [
    {
     "data": {
      "text/plain": [
       "array([0, 2, 3, 4, 7, 8])"
      ]
     },
     "execution_count": 39,
     "metadata": {},
     "output_type": "execute_result"
    }
   ],
   "source": [
    "np.unique(random)"
   ]
  },
  {
   "cell_type": "code",
   "execution_count": 40,
   "id": "4911c3b2-5c69-40db-8d64-241a2b7590e6",
   "metadata": {},
   "outputs": [
    {
     "data": {
      "text/plain": [
       "array([1, 2, 4])"
      ]
     },
     "execution_count": 40,
     "metadata": {},
     "output_type": "execute_result"
    }
   ],
   "source": [
    "a1"
   ]
  },
  {
   "cell_type": "code",
   "execution_count": 41,
   "id": "7efbc1e8-f98c-4905-adce-531a44b5544f",
   "metadata": {},
   "outputs": [
    {
     "data": {
      "text/plain": [
       "1"
      ]
     },
     "execution_count": 41,
     "metadata": {},
     "output_type": "execute_result"
    }
   ],
   "source": [
    "a1[0]"
   ]
  },
  {
   "cell_type": "code",
   "execution_count": 42,
   "id": "9cb336a6-a953-44a2-b4d9-22487321e33b",
   "metadata": {},
   "outputs": [
    {
     "data": {
      "text/plain": [
       "array([[1. , 2. , 3. ],\n",
       "       [2.3, 5. , 6. ]])"
      ]
     },
     "execution_count": 42,
     "metadata": {},
     "output_type": "execute_result"
    }
   ],
   "source": [
    "a2"
   ]
  },
  {
   "cell_type": "code",
   "execution_count": 43,
   "id": "a7f2c65f-e42b-4054-858e-a26497ba0974",
   "metadata": {},
   "outputs": [
    {
     "data": {
      "text/plain": [
       "array([1., 2., 3.])"
      ]
     },
     "execution_count": 43,
     "metadata": {},
     "output_type": "execute_result"
    }
   ],
   "source": [
    "a2[0]"
   ]
  },
  {
   "cell_type": "code",
   "execution_count": 46,
   "id": "c8e62ebc-f0fc-47e8-86bd-6d9db8c7ec95",
   "metadata": {},
   "outputs": [
    {
     "data": {
      "text/plain": [
       "2.0"
      ]
     },
     "execution_count": 46,
     "metadata": {},
     "output_type": "execute_result"
    }
   ],
   "source": [
    "a2[0][1]"
   ]
  },
  {
   "cell_type": "code",
   "execution_count": 49,
   "id": "e1e264d3-ad75-47a8-afae-94f961958f59",
   "metadata": {},
   "outputs": [
    {
     "data": {
      "text/plain": [
       "array([[[[1, 6, 9, 9, 7],\n",
       "         [3, 5, 1, 9, 1],\n",
       "         [0, 0, 0, 2, 9],\n",
       "         [6, 1, 2, 2, 2]],\n",
       "\n",
       "        [[9, 7, 2, 8, 9],\n",
       "         [2, 7, 4, 7, 6],\n",
       "         [3, 3, 2, 9, 8],\n",
       "         [6, 6, 7, 9, 9]],\n",
       "\n",
       "        [[6, 3, 1, 1, 3],\n",
       "         [4, 3, 2, 5, 9],\n",
       "         [1, 8, 6, 4, 5],\n",
       "         [1, 3, 6, 2, 4]]],\n",
       "\n",
       "\n",
       "       [[[3, 3, 5, 8, 1],\n",
       "         [8, 0, 4, 7, 1],\n",
       "         [4, 6, 9, 6, 5],\n",
       "         [7, 6, 3, 0, 6]],\n",
       "\n",
       "        [[3, 0, 8, 1, 7],\n",
       "         [6, 2, 3, 3, 7],\n",
       "         [0, 4, 3, 1, 9],\n",
       "         [9, 5, 9, 8, 2]],\n",
       "\n",
       "        [[7, 0, 4, 3, 1],\n",
       "         [2, 5, 9, 9, 4],\n",
       "         [5, 4, 0, 9, 6],\n",
       "         [4, 9, 0, 5, 8]]]])"
      ]
     },
     "execution_count": 49,
     "metadata": {},
     "output_type": "execute_result"
    }
   ],
   "source": [
    "a4 = np.random.randint(10, size=(2,3,4,5))\n",
    "a4"
   ]
  },
  {
   "cell_type": "code",
   "execution_count": 52,
   "id": "e12445b2-9a12-4f5a-8ea4-ae71b71add59",
   "metadata": {},
   "outputs": [
    {
     "data": {
      "text/plain": [
       "array([[[[1, 6, 9, 9, 7]],\n",
       "\n",
       "        [[9, 7, 2, 8, 9]],\n",
       "\n",
       "        [[6, 3, 1, 1, 3]]],\n",
       "\n",
       "\n",
       "       [[[3, 3, 5, 8, 1]],\n",
       "\n",
       "        [[3, 0, 8, 1, 7]],\n",
       "\n",
       "        [[7, 0, 4, 3, 1]]]])"
      ]
     },
     "execution_count": 52,
     "metadata": {},
     "output_type": "execute_result"
    }
   ],
   "source": [
    "a4[:, :3, :1, :5,]"
   ]
  },
  {
   "cell_type": "markdown",
   "id": "d4483659-88bc-4959-a772-e8023642b959",
   "metadata": {},
   "source": [
    "## Manipulating arrays"
   ]
  },
  {
   "cell_type": "markdown",
   "id": "d8f872f7-c6d3-427c-a7a9-e261e3c6e698",
   "metadata": {},
   "source": [
    "### Arithmetic"
   ]
  },
  {
   "cell_type": "code",
   "execution_count": 53,
   "id": "b744b61a-5f0b-428d-ad64-2c168f1016ea",
   "metadata": {},
   "outputs": [
    {
     "data": {
      "text/plain": [
       "(array([1, 2, 4]),\n",
       " array([[1, 1, 1],\n",
       "        [1, 1, 1]]))"
      ]
     },
     "execution_count": 53,
     "metadata": {},
     "output_type": "execute_result"
    }
   ],
   "source": [
    "a1, one"
   ]
  },
  {
   "cell_type": "code",
   "execution_count": 54,
   "id": "fb8a64b6-fa3d-4ef6-807e-19f669b8fb0b",
   "metadata": {},
   "outputs": [
    {
     "data": {
      "text/plain": [
       "array([[2, 3, 5],\n",
       "       [2, 3, 5]])"
      ]
     },
     "execution_count": 54,
     "metadata": {},
     "output_type": "execute_result"
    }
   ],
   "source": [
    "a1 + one"
   ]
  },
  {
   "cell_type": "code",
   "execution_count": 55,
   "id": "6feab062-4a6b-4e44-939b-5ba2b1e437e8",
   "metadata": {},
   "outputs": [
    {
     "data": {
      "text/plain": [
       "array([[1, 2, 4],\n",
       "       [1, 2, 4]])"
      ]
     },
     "execution_count": 55,
     "metadata": {},
     "output_type": "execute_result"
    }
   ],
   "source": [
    "a1 * one"
   ]
  },
  {
   "cell_type": "code",
   "execution_count": 60,
   "id": "51c1cd81-b6b7-4cc4-b1c1-4fe917166d99",
   "metadata": {},
   "outputs": [],
   "source": [
    "a3 = np.array([[[1,2,3],\n",
    "                [2,3,4],\n",
    "                [3,4,5]],\n",
    "                [[4,5,6],\n",
    "                [5,6,7],\n",
    "                [6,7,8]]])"
   ]
  },
  {
   "cell_type": "code",
   "execution_count": 62,
   "id": "a779f18f-ab8b-498a-9851-67d809145500",
   "metadata": {},
   "outputs": [],
   "source": [
    "#a3 * a2 error there are not compatibile\n",
    "# How to re shape an array?"
   ]
  },
  {
   "cell_type": "code",
   "execution_count": 64,
   "id": "fd4209b0-e767-4048-b9cb-c7b95ae328a7",
   "metadata": {},
   "outputs": [
    {
     "data": {
      "text/plain": [
       "array([[1., 2., 4.],\n",
       "       [1., 2., 4.]])"
      ]
     },
     "execution_count": 64,
     "metadata": {},
     "output_type": "execute_result"
    }
   ],
   "source": [
    "a1 / one"
   ]
  },
  {
   "cell_type": "code",
   "execution_count": 65,
   "id": "200f28ef-0d44-4ed2-82a3-271feb8ee813",
   "metadata": {},
   "outputs": [
    {
     "data": {
      "text/plain": [
       "array([[1.        , 1.        , 1.33333333],\n",
       "       [0.43478261, 0.4       , 0.66666667]])"
      ]
     },
     "execution_count": 65,
     "metadata": {},
     "output_type": "execute_result"
    }
   ],
   "source": [
    "a1 / a2"
   ]
  },
  {
   "cell_type": "code",
   "execution_count": 66,
   "id": "8e1f8315-5aa1-4ddb-bafc-c2222f6ca591",
   "metadata": {},
   "outputs": [
    {
     "data": {
      "text/plain": [
       "array([[1., 1., 1.],\n",
       "       [0., 0., 0.]])"
      ]
     },
     "execution_count": 66,
     "metadata": {},
     "output_type": "execute_result"
    }
   ],
   "source": [
    "# Floor division goes with 2 slash\n",
    "a1 // a2"
   ]
  },
  {
   "cell_type": "code",
   "execution_count": 67,
   "id": "e19c44ee-e44f-4f5f-aed6-a1b8a3330ab3",
   "metadata": {},
   "outputs": [
    {
     "data": {
      "text/plain": [
       "array([[1.000e+00, 4.000e+00, 6.400e+01],\n",
       "       [1.000e+00, 3.200e+01, 4.096e+03]])"
      ]
     },
     "execution_count": 67,
     "metadata": {},
     "output_type": "execute_result"
    }
   ],
   "source": [
    "a1 ** a2"
   ]
  },
  {
   "cell_type": "code",
   "execution_count": 68,
   "id": "d8b74c19-b827-4bb5-b8f9-ae676fa95788",
   "metadata": {},
   "outputs": [
    {
     "data": {
      "text/plain": [
       "array([[0., 0., 1.],\n",
       "       [1., 2., 4.]])"
      ]
     },
     "execution_count": 68,
     "metadata": {},
     "output_type": "execute_result"
    }
   ],
   "source": [
    "a1 % a2"
   ]
  },
  {
   "cell_type": "code",
   "execution_count": 69,
   "id": "6ebc1674-1192-4f3d-bbcc-c95ff5738fb1",
   "metadata": {},
   "outputs": [
    {
     "data": {
      "text/plain": [
       "array([ 2.71828183,  7.3890561 , 54.59815003])"
      ]
     },
     "execution_count": 69,
     "metadata": {},
     "output_type": "execute_result"
    }
   ],
   "source": [
    "np.exp(a1)"
   ]
  },
  {
   "cell_type": "code",
   "execution_count": 70,
   "id": "b929b82b-209d-4543-8fa8-5a866b592f83",
   "metadata": {},
   "outputs": [
    {
     "data": {
      "text/plain": [
       "array([0.        , 0.69314718, 1.38629436])"
      ]
     },
     "execution_count": 70,
     "metadata": {},
     "output_type": "execute_result"
    }
   ],
   "source": [
    "np.log(a1)"
   ]
  },
  {
   "cell_type": "code",
   "execution_count": null,
   "id": "513fd544-4ee4-4b4a-a279-855251f77b1e",
   "metadata": {},
   "outputs": [],
   "source": []
  }
 ],
 "metadata": {
  "kernelspec": {
   "display_name": "Python 3 (ipykernel)",
   "language": "python",
   "name": "python3"
  },
  "language_info": {
   "codemirror_mode": {
    "name": "ipython",
    "version": 3
   },
   "file_extension": ".py",
   "mimetype": "text/x-python",
   "name": "python",
   "nbconvert_exporter": "python",
   "pygments_lexer": "ipython3",
   "version": "3.12.3"
  }
 },
 "nbformat": 4,
 "nbformat_minor": 5
}
