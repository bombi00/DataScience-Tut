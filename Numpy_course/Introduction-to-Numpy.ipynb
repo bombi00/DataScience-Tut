{
 "cells": [
  {
   "cell_type": "code",
   "execution_count": 1,
   "id": "2f8231bf-9ff8-4e5d-8793-2ec8ad8ebeb3",
   "metadata": {},
   "outputs": [],
   "source": [
    "import numpy as np"
   ]
  },
  {
   "cell_type": "markdown",
   "id": "c4e6334f-2c6a-442a-8ea5-41b7253157c4",
   "metadata": {},
   "source": [
    "## Datatypes and Attributes"
   ]
  },
  {
   "cell_type": "code",
   "execution_count": 2,
   "id": "e4160b98-6ace-4cb6-a05c-0a3d91e2615e",
   "metadata": {},
   "outputs": [
    {
     "data": {
      "text/plain": [
       "array([1, 2, 4])"
      ]
     },
     "execution_count": 2,
     "metadata": {},
     "output_type": "execute_result"
    }
   ],
   "source": [
    "#This is a numpy ndarray n dimensional array, the first one i 1 dimensional\n",
    "a1 = np.array([1, 2, 4])\n",
    "a1"
   ]
  },
  {
   "cell_type": "code",
   "execution_count": 3,
   "id": "99dc29e4-2c67-4d44-97d9-cebd3923d7ff",
   "metadata": {},
   "outputs": [
    {
     "data": {
      "text/plain": [
       "array([[1. , 2. , 3. ],\n",
       "       [2.3, 5. , 6. ]])"
      ]
     },
     "execution_count": 3,
     "metadata": {},
     "output_type": "execute_result"
    }
   ],
   "source": [
    "#2 dimensional array\n",
    "a2 = np.array([[1,2,3],\n",
    "               [2.3,5,6]])\n",
    "a2"
   ]
  },
  {
   "cell_type": "code",
   "execution_count": 4,
   "id": "a62c6a51-158c-4b94-a36b-c11580579b5b",
   "metadata": {},
   "outputs": [
    {
     "data": {
      "text/plain": [
       "(3, 2, 3)"
      ]
     },
     "execution_count": 4,
     "metadata": {},
     "output_type": "execute_result"
    }
   ],
   "source": [
    "#3 dimensional array\n",
    "a3 = np.array([[[1,2,3],\n",
    "                [2,3,4]],\n",
    "               [[3,4,5],\n",
    "                [4,5,6]],\n",
    "               [[5,6,7],\n",
    "                [6,7,8]]])\n",
    "a3.shape"
   ]
  },
  {
   "cell_type": "code",
   "execution_count": 5,
   "id": "2c5f8700-426d-4ff4-bc7e-edd6101861a1",
   "metadata": {},
   "outputs": [
    {
     "data": {
      "text/plain": [
       "(1, 2, 3)"
      ]
     },
     "execution_count": 5,
     "metadata": {},
     "output_type": "execute_result"
    }
   ],
   "source": [
    "#return n dimension\n",
    "a1.ndim, a2.ndim, a3.ndim"
   ]
  },
  {
   "cell_type": "code",
   "execution_count": 6,
   "id": "9c22b053-88c6-4f65-b10a-9eac93dae49a",
   "metadata": {},
   "outputs": [
    {
     "data": {
      "text/plain": [
       "(3, 6, 18)"
      ]
     },
     "execution_count": 6,
     "metadata": {},
     "output_type": "execute_result"
    }
   ],
   "source": [
    "# return the n element of the array\n",
    "a1.size, a2.size, a3.size"
   ]
  },
  {
   "cell_type": "code",
   "execution_count": 7,
   "id": "9ad88af3-80e8-4b35-b3ae-e7dfdfbf8f11",
   "metadata": {},
   "outputs": [
    {
     "data": {
      "text/plain": [
       "(numpy.ndarray, numpy.ndarray, numpy.ndarray)"
      ]
     },
     "execution_count": 7,
     "metadata": {},
     "output_type": "execute_result"
    }
   ],
   "source": [
    "#type of array \n",
    "type(a1), type(a2), type(a3)"
   ]
  },
  {
   "cell_type": "code",
   "execution_count": 8,
   "id": "887a20d5-f47f-499e-8de3-55d2dafd5de3",
   "metadata": {},
   "outputs": [
    {
     "data": {
      "text/html": [
       "<div>\n",
       "<style scoped>\n",
       "    .dataframe tbody tr th:only-of-type {\n",
       "        vertical-align: middle;\n",
       "    }\n",
       "\n",
       "    .dataframe tbody tr th {\n",
       "        vertical-align: top;\n",
       "    }\n",
       "\n",
       "    .dataframe thead th {\n",
       "        text-align: right;\n",
       "    }\n",
       "</style>\n",
       "<table border=\"1\" class=\"dataframe\">\n",
       "  <thead>\n",
       "    <tr style=\"text-align: right;\">\n",
       "      <th></th>\n",
       "      <th>0</th>\n",
       "      <th>1</th>\n",
       "      <th>2</th>\n",
       "    </tr>\n",
       "  </thead>\n",
       "  <tbody>\n",
       "    <tr>\n",
       "      <th>0</th>\n",
       "      <td>1.0</td>\n",
       "      <td>2.0</td>\n",
       "      <td>3.0</td>\n",
       "    </tr>\n",
       "    <tr>\n",
       "      <th>1</th>\n",
       "      <td>2.3</td>\n",
       "      <td>5.0</td>\n",
       "      <td>6.0</td>\n",
       "    </tr>\n",
       "  </tbody>\n",
       "</table>\n",
       "</div>"
      ],
      "text/plain": [
       "     0    1    2\n",
       "0  1.0  2.0  3.0\n",
       "1  2.3  5.0  6.0"
      ]
     },
     "execution_count": 8,
     "metadata": {},
     "output_type": "execute_result"
    }
   ],
   "source": [
    "#Create a Dataframe from a Numpy array\n",
    "import pandas as pd\n",
    "\n",
    "df = pd.DataFrame(a2)\n",
    "df"
   ]
  },
  {
   "cell_type": "code",
   "execution_count": 9,
   "id": "a9ec315e-1caf-40e9-9aa8-bdb38c882d34",
   "metadata": {},
   "outputs": [
    {
     "data": {
      "text/plain": [
       "array([[0., 0., 0.],\n",
       "       [0., 0., 0.],\n",
       "       [0., 0., 0.]])"
      ]
     },
     "execution_count": 9,
     "metadata": {},
     "output_type": "execute_result"
    }
   ],
   "source": [
    "a3 = np.zeros((3,3))\n",
    "a3"
   ]
  },
  {
   "cell_type": "markdown",
   "id": "e9ed455a-6654-4bc0-9ff2-d8b97683e0b6",
   "metadata": {},
   "source": [
    "## Creating arrays"
   ]
  },
  {
   "cell_type": "code",
   "execution_count": 10,
   "id": "d5e59c69-901d-4d4f-bc99-b4a426094d1c",
   "metadata": {},
   "outputs": [],
   "source": [
    "#Array fill with 1, we can choose the data type of the array by setting it with dtype\n",
    "one = np.ones((2,3), dtype=int)"
   ]
  },
  {
   "cell_type": "code",
   "execution_count": 11,
   "id": "45d35002-d3db-4ec4-9380-9b521b044e80",
   "metadata": {},
   "outputs": [
    {
     "data": {
      "text/plain": [
       "array([[1, 1, 1],\n",
       "       [1, 1, 1]])"
      ]
     },
     "execution_count": 11,
     "metadata": {},
     "output_type": "execute_result"
    }
   ],
   "source": [
    "one"
   ]
  },
  {
   "cell_type": "code",
   "execution_count": 12,
   "id": "e31ee293-874a-422b-bb33-9baf6cc5923c",
   "metadata": {},
   "outputs": [
    {
     "data": {
      "text/plain": [
       "array([ 0,  3,  6,  9, 12, 15, 18, 21, 24, 27, 30, 33, 36, 39, 42, 45, 48,\n",
       "       51, 54, 57, 60, 63, 66, 69, 72, 75, 78, 81, 84, 87, 90, 93, 96, 99])"
      ]
     },
     "execution_count": 12,
     "metadata": {},
     "output_type": "execute_result"
    }
   ],
   "source": [
    "range = np.arange(0,100,3)\n",
    "range"
   ]
  },
  {
   "cell_type": "code",
   "execution_count": 13,
   "id": "fa163651-c36c-4151-a703-40b5ea7ab4cb",
   "metadata": {},
   "outputs": [
    {
     "data": {
      "text/plain": [
       "array([[5, 7, 1],\n",
       "       [5, 8, 8],\n",
       "       [5, 4, 6]])"
      ]
     },
     "execution_count": 13,
     "metadata": {},
     "output_type": "execute_result"
    }
   ],
   "source": [
    "random = np.random.randint(0,10,size=(3,3))\n",
    "random"
   ]
  },
  {
   "cell_type": "code",
   "execution_count": 14,
   "id": "426f25e0-df26-4cd9-ac2d-5cbcff20b61d",
   "metadata": {},
   "outputs": [
    {
     "data": {
      "text/plain": [
       "array([[0.5900044 , 0.65542915],\n",
       "       [0.48262634, 0.06443229],\n",
       "       [0.77898445, 0.18582853],\n",
       "       [0.73243315, 0.54865829],\n",
       "       [0.84777029, 0.16492938]])"
      ]
     },
     "execution_count": 14,
     "metadata": {},
     "output_type": "execute_result"
    }
   ],
   "source": [
    "#Random arrays with floating numbers\n",
    "random2 = np.random.random((5,2))\n",
    "random2"
   ]
  },
  {
   "cell_type": "code",
   "execution_count": 15,
   "id": "004838b5-45a4-4107-8dbf-d675c7ed93d3",
   "metadata": {},
   "outputs": [
    {
     "data": {
      "text/plain": [
       "array([[0.82069627, 0.26211631, 0.43771663],\n",
       "       [0.5382441 , 0.98084869, 0.86475531],\n",
       "       [0.79545085, 0.84392304, 0.54648361],\n",
       "       [0.74387146, 0.28311084, 0.50226512],\n",
       "       [0.60810516, 0.33113025, 0.49711188]])"
      ]
     },
     "execution_count": 15,
     "metadata": {},
     "output_type": "execute_result"
    }
   ],
   "source": [
    "random3 = np.random.rand(5,3)\n",
    "random3"
   ]
  },
  {
   "cell_type": "markdown",
   "id": "91ceb6a2-2d16-4155-8511-ea5fa31fab9c",
   "metadata": {},
   "source": [
    "##  Viewing arrays and matrices"
   ]
  },
  {
   "cell_type": "code",
   "execution_count": 16,
   "id": "84a2f211-7d8b-4ece-a488-434ef5a83741",
   "metadata": {},
   "outputs": [
    {
     "data": {
      "text/plain": [
       "array([1, 4, 5, 6, 7, 8])"
      ]
     },
     "execution_count": 16,
     "metadata": {},
     "output_type": "execute_result"
    }
   ],
   "source": [
    "np.unique(random)"
   ]
  },
  {
   "cell_type": "code",
   "execution_count": 17,
   "id": "4911c3b2-5c69-40db-8d64-241a2b7590e6",
   "metadata": {},
   "outputs": [
    {
     "data": {
      "text/plain": [
       "array([1, 2, 4])"
      ]
     },
     "execution_count": 17,
     "metadata": {},
     "output_type": "execute_result"
    }
   ],
   "source": [
    "a1"
   ]
  },
  {
   "cell_type": "code",
   "execution_count": 18,
   "id": "7efbc1e8-f98c-4905-adce-531a44b5544f",
   "metadata": {},
   "outputs": [
    {
     "data": {
      "text/plain": [
       "1"
      ]
     },
     "execution_count": 18,
     "metadata": {},
     "output_type": "execute_result"
    }
   ],
   "source": [
    "a1[0]"
   ]
  },
  {
   "cell_type": "code",
   "execution_count": 19,
   "id": "9cb336a6-a953-44a2-b4d9-22487321e33b",
   "metadata": {},
   "outputs": [
    {
     "data": {
      "text/plain": [
       "array([[1. , 2. , 3. ],\n",
       "       [2.3, 5. , 6. ]])"
      ]
     },
     "execution_count": 19,
     "metadata": {},
     "output_type": "execute_result"
    }
   ],
   "source": [
    "a2"
   ]
  },
  {
   "cell_type": "code",
   "execution_count": 20,
   "id": "a7f2c65f-e42b-4054-858e-a26497ba0974",
   "metadata": {},
   "outputs": [
    {
     "data": {
      "text/plain": [
       "array([1., 2., 3.])"
      ]
     },
     "execution_count": 20,
     "metadata": {},
     "output_type": "execute_result"
    }
   ],
   "source": [
    "a2[0]"
   ]
  },
  {
   "cell_type": "code",
   "execution_count": 21,
   "id": "c8e62ebc-f0fc-47e8-86bd-6d9db8c7ec95",
   "metadata": {},
   "outputs": [
    {
     "data": {
      "text/plain": [
       "2.0"
      ]
     },
     "execution_count": 21,
     "metadata": {},
     "output_type": "execute_result"
    }
   ],
   "source": [
    "a2[0][1]"
   ]
  },
  {
   "cell_type": "code",
   "execution_count": 22,
   "id": "e1e264d3-ad75-47a8-afae-94f961958f59",
   "metadata": {},
   "outputs": [
    {
     "data": {
      "text/plain": [
       "array([[[[8, 2, 4, 1, 4],\n",
       "         [5, 3, 4, 5, 5],\n",
       "         [9, 8, 8, 1, 3],\n",
       "         [0, 0, 3, 5, 5]],\n",
       "\n",
       "        [[6, 9, 7, 0, 0],\n",
       "         [8, 9, 3, 8, 6],\n",
       "         [6, 9, 0, 5, 9],\n",
       "         [8, 7, 7, 1, 3]],\n",
       "\n",
       "        [[8, 7, 5, 5, 1],\n",
       "         [9, 3, 7, 5, 2],\n",
       "         [8, 4, 9, 5, 7],\n",
       "         [2, 8, 3, 4, 8]]],\n",
       "\n",
       "\n",
       "       [[[1, 0, 5, 0, 3],\n",
       "         [2, 4, 2, 9, 2],\n",
       "         [7, 6, 8, 5, 7],\n",
       "         [7, 6, 8, 3, 2]],\n",
       "\n",
       "        [[9, 5, 7, 4, 8],\n",
       "         [6, 7, 2, 2, 8],\n",
       "         [6, 9, 6, 4, 6],\n",
       "         [2, 2, 5, 5, 4]],\n",
       "\n",
       "        [[8, 9, 1, 4, 2],\n",
       "         [0, 2, 1, 0, 9],\n",
       "         [6, 8, 8, 6, 8],\n",
       "         [9, 5, 4, 0, 4]]]])"
      ]
     },
     "execution_count": 22,
     "metadata": {},
     "output_type": "execute_result"
    }
   ],
   "source": [
    "a4 = np.random.randint(10, size=(2,3,4,5))\n",
    "a4"
   ]
  },
  {
   "cell_type": "code",
   "execution_count": 23,
   "id": "e12445b2-9a12-4f5a-8ea4-ae71b71add59",
   "metadata": {},
   "outputs": [
    {
     "data": {
      "text/plain": [
       "array([[[[8, 2, 4, 1, 4]],\n",
       "\n",
       "        [[6, 9, 7, 0, 0]],\n",
       "\n",
       "        [[8, 7, 5, 5, 1]]],\n",
       "\n",
       "\n",
       "       [[[1, 0, 5, 0, 3]],\n",
       "\n",
       "        [[9, 5, 7, 4, 8]],\n",
       "\n",
       "        [[8, 9, 1, 4, 2]]]])"
      ]
     },
     "execution_count": 23,
     "metadata": {},
     "output_type": "execute_result"
    }
   ],
   "source": [
    "a4[:, :3, :1, :5,]"
   ]
  },
  {
   "cell_type": "markdown",
   "id": "d4483659-88bc-4959-a772-e8023642b959",
   "metadata": {},
   "source": [
    "## Manipulating arrays"
   ]
  },
  {
   "cell_type": "markdown",
   "id": "d8f872f7-c6d3-427c-a7a9-e261e3c6e698",
   "metadata": {},
   "source": [
    "### Arithmetic"
   ]
  },
  {
   "cell_type": "code",
   "execution_count": 24,
   "id": "b744b61a-5f0b-428d-ad64-2c168f1016ea",
   "metadata": {},
   "outputs": [
    {
     "data": {
      "text/plain": [
       "(array([1, 2, 4]),\n",
       " array([[1, 1, 1],\n",
       "        [1, 1, 1]]))"
      ]
     },
     "execution_count": 24,
     "metadata": {},
     "output_type": "execute_result"
    }
   ],
   "source": [
    "a1, one"
   ]
  },
  {
   "cell_type": "code",
   "execution_count": 25,
   "id": "fb8a64b6-fa3d-4ef6-807e-19f669b8fb0b",
   "metadata": {},
   "outputs": [
    {
     "data": {
      "text/plain": [
       "array([[2, 3, 5],\n",
       "       [2, 3, 5]])"
      ]
     },
     "execution_count": 25,
     "metadata": {},
     "output_type": "execute_result"
    }
   ],
   "source": [
    "a1 + one"
   ]
  },
  {
   "cell_type": "code",
   "execution_count": 26,
   "id": "6feab062-4a6b-4e44-939b-5ba2b1e437e8",
   "metadata": {},
   "outputs": [
    {
     "data": {
      "text/plain": [
       "array([[1, 2, 4],\n",
       "       [1, 2, 4]])"
      ]
     },
     "execution_count": 26,
     "metadata": {},
     "output_type": "execute_result"
    }
   ],
   "source": [
    "a1 * one"
   ]
  },
  {
   "cell_type": "code",
   "execution_count": 27,
   "id": "51c1cd81-b6b7-4cc4-b1c1-4fe917166d99",
   "metadata": {},
   "outputs": [],
   "source": [
    "a3 = np.array([[[1,2,3],\n",
    "                [2,3,4],\n",
    "                [3,4,5]],\n",
    "                [[4,5,6],\n",
    "                [5,6,7],\n",
    "                [6,7,8]]])"
   ]
  },
  {
   "cell_type": "code",
   "execution_count": 28,
   "id": "a779f18f-ab8b-498a-9851-67d809145500",
   "metadata": {},
   "outputs": [],
   "source": [
    "#a3 * a2 error there are not compatibile\n",
    "# How to re shape an array?"
   ]
  },
  {
   "cell_type": "code",
   "execution_count": 29,
   "id": "fd4209b0-e767-4048-b9cb-c7b95ae328a7",
   "metadata": {},
   "outputs": [
    {
     "data": {
      "text/plain": [
       "array([[1., 2., 4.],\n",
       "       [1., 2., 4.]])"
      ]
     },
     "execution_count": 29,
     "metadata": {},
     "output_type": "execute_result"
    }
   ],
   "source": [
    "a1 / one"
   ]
  },
  {
   "cell_type": "code",
   "execution_count": 30,
   "id": "200f28ef-0d44-4ed2-82a3-271feb8ee813",
   "metadata": {},
   "outputs": [
    {
     "data": {
      "text/plain": [
       "array([[1.        , 1.        , 1.33333333],\n",
       "       [0.43478261, 0.4       , 0.66666667]])"
      ]
     },
     "execution_count": 30,
     "metadata": {},
     "output_type": "execute_result"
    }
   ],
   "source": [
    "a1 / a2"
   ]
  },
  {
   "cell_type": "code",
   "execution_count": 31,
   "id": "8e1f8315-5aa1-4ddb-bafc-c2222f6ca591",
   "metadata": {},
   "outputs": [
    {
     "data": {
      "text/plain": [
       "array([[1., 1., 1.],\n",
       "       [0., 0., 0.]])"
      ]
     },
     "execution_count": 31,
     "metadata": {},
     "output_type": "execute_result"
    }
   ],
   "source": [
    "# Floor division goes with 2 slash\n",
    "a1 // a2"
   ]
  },
  {
   "cell_type": "code",
   "execution_count": 32,
   "id": "e19c44ee-e44f-4f5f-aed6-a1b8a3330ab3",
   "metadata": {},
   "outputs": [
    {
     "data": {
      "text/plain": [
       "array([[1.000e+00, 4.000e+00, 6.400e+01],\n",
       "       [1.000e+00, 3.200e+01, 4.096e+03]])"
      ]
     },
     "execution_count": 32,
     "metadata": {},
     "output_type": "execute_result"
    }
   ],
   "source": [
    "a1 ** a2"
   ]
  },
  {
   "cell_type": "code",
   "execution_count": 33,
   "id": "d8b74c19-b827-4bb5-b8f9-ae676fa95788",
   "metadata": {},
   "outputs": [
    {
     "data": {
      "text/plain": [
       "array([[0., 0., 1.],\n",
       "       [1., 2., 4.]])"
      ]
     },
     "execution_count": 33,
     "metadata": {},
     "output_type": "execute_result"
    }
   ],
   "source": [
    "a1 % a2"
   ]
  },
  {
   "cell_type": "code",
   "execution_count": 34,
   "id": "6ebc1674-1192-4f3d-bbcc-c95ff5738fb1",
   "metadata": {},
   "outputs": [
    {
     "data": {
      "text/plain": [
       "array([ 2.71828183,  7.3890561 , 54.59815003])"
      ]
     },
     "execution_count": 34,
     "metadata": {},
     "output_type": "execute_result"
    }
   ],
   "source": [
    "np.exp(a1)"
   ]
  },
  {
   "cell_type": "code",
   "execution_count": 35,
   "id": "b929b82b-209d-4543-8fa8-5a866b592f83",
   "metadata": {},
   "outputs": [
    {
     "data": {
      "text/plain": [
       "array([0.        , 0.69314718, 1.38629436])"
      ]
     },
     "execution_count": 35,
     "metadata": {},
     "output_type": "execute_result"
    }
   ],
   "source": [
    "np.log(a1)"
   ]
  },
  {
   "cell_type": "markdown",
   "id": "b8d9f4f2-cbaa-4c16-9092-68d367eeaa73",
   "metadata": {},
   "source": [
    "### Aggregation"
   ]
  },
  {
   "cell_type": "code",
   "execution_count": 36,
   "id": "8913692e-300d-4f9a-8782-8981dc14d95b",
   "metadata": {},
   "outputs": [],
   "source": [
    "list = [1,2,3]"
   ]
  },
  {
   "cell_type": "code",
   "execution_count": 37,
   "id": "eda6404e-6274-450a-bf5d-6dd877a414d7",
   "metadata": {},
   "outputs": [
    {
     "data": {
      "text/plain": [
       "6"
      ]
     },
     "execution_count": 37,
     "metadata": {},
     "output_type": "execute_result"
    }
   ],
   "source": [
    "sum(list)"
   ]
  },
  {
   "cell_type": "code",
   "execution_count": 38,
   "id": "abd5bd0d-8c21-4106-8e46-8222ef80d5e3",
   "metadata": {},
   "outputs": [
    {
     "data": {
      "text/plain": [
       "array([1, 2, 4])"
      ]
     },
     "execution_count": 38,
     "metadata": {},
     "output_type": "execute_result"
    }
   ],
   "source": [
    "a1"
   ]
  },
  {
   "cell_type": "code",
   "execution_count": 39,
   "id": "b1d62482-2aec-4aea-9435-982c68503dee",
   "metadata": {},
   "outputs": [
    {
     "data": {
      "text/plain": [
       "7"
      ]
     },
     "execution_count": 39,
     "metadata": {},
     "output_type": "execute_result"
    }
   ],
   "source": [
    "np.sum(a1)"
   ]
  },
  {
   "cell_type": "markdown",
   "id": "6aae295b-ac46-4038-aba9-6c62d00d9288",
   "metadata": {},
   "source": [
    "Use `sum()` for python list and `np.sum()` for numpy array"
   ]
  },
  {
   "cell_type": "code",
   "execution_count": 40,
   "id": "ca93a614-fb26-4586-8ec9-c555150f3a56",
   "metadata": {},
   "outputs": [],
   "source": [
    "massive_array = np.random.random(1000000)"
   ]
  },
  {
   "cell_type": "code",
   "execution_count": 41,
   "id": "31d05f83-e1c2-4087-ad95-28977099463f",
   "metadata": {},
   "outputs": [
    {
     "name": "stdout",
     "output_type": "stream",
     "text": [
      "56.1 ms ± 1.35 ms per loop (mean ± std. dev. of 7 runs, 10 loops each)\n",
      "496 µs ± 29.2 µs per loop (mean ± std. dev. of 7 runs, 1,000 loops each)\n"
     ]
    }
   ],
   "source": [
    "%timeit sum(massive_array)\n",
    "%timeit np.sum(massive_array)"
   ]
  },
  {
   "cell_type": "code",
   "execution_count": 42,
   "id": "28fb204f-172b-4641-8def-b3d870f737e4",
   "metadata": {},
   "outputs": [
    {
     "data": {
      "text/plain": [
       "array([[1. , 2. , 3. ],\n",
       "       [2.3, 5. , 6. ]])"
      ]
     },
     "execution_count": 42,
     "metadata": {},
     "output_type": "execute_result"
    }
   ],
   "source": [
    "a2"
   ]
  },
  {
   "cell_type": "code",
   "execution_count": 43,
   "id": "4f9e655b-b128-4de5-a87c-cba12168823d",
   "metadata": {},
   "outputs": [
    {
     "data": {
      "text/plain": [
       "19.3"
      ]
     },
     "execution_count": 43,
     "metadata": {},
     "output_type": "execute_result"
    }
   ],
   "source": [
    "np.sum(a2)"
   ]
  },
  {
   "cell_type": "code",
   "execution_count": 44,
   "id": "8d2e5fdc-2648-4fc2-96ff-1b79acc54dd8",
   "metadata": {},
   "outputs": [
    {
     "data": {
      "text/plain": [
       "3.216666666666667"
      ]
     },
     "execution_count": 44,
     "metadata": {},
     "output_type": "execute_result"
    }
   ],
   "source": [
    "np.mean(a2)"
   ]
  },
  {
   "cell_type": "code",
   "execution_count": 45,
   "id": "dcb43223-b80f-49b4-9a33-01c67940288e",
   "metadata": {},
   "outputs": [
    {
     "data": {
      "text/plain": [
       "1.7420454133639063"
      ]
     },
     "execution_count": 45,
     "metadata": {},
     "output_type": "execute_result"
    }
   ],
   "source": [
    "np.std(a2)"
   ]
  },
  {
   "cell_type": "code",
   "execution_count": 46,
   "id": "749e23f8-ca2c-4eb0-a250-d139b84f55a2",
   "metadata": {},
   "outputs": [
    {
     "data": {
      "text/plain": [
       "3.0347222222222228"
      ]
     },
     "execution_count": 46,
     "metadata": {},
     "output_type": "execute_result"
    }
   ],
   "source": [
    "np.var(a2)"
   ]
  },
  {
   "cell_type": "code",
   "execution_count": 47,
   "id": "10af6079-be5f-4557-a82e-049c1f3b66cf",
   "metadata": {},
   "outputs": [
    {
     "data": {
      "text/plain": [
       "1.7420454133639063"
      ]
     },
     "execution_count": 47,
     "metadata": {},
     "output_type": "execute_result"
    }
   ],
   "source": [
    "# Std is the sqrt of var\n",
    "np.sqrt(np.var(a2))"
   ]
  },
  {
   "cell_type": "code",
   "execution_count": 48,
   "id": "e2da3b10-2972-4b12-baff-8cbe8644b3e4",
   "metadata": {},
   "outputs": [],
   "source": [
    "high_spreed = np.array([1, 100, 200, 500, 1000, 5000])\n",
    "low_spreed = np.array([2,4,6,8,10])"
   ]
  },
  {
   "cell_type": "code",
   "execution_count": 49,
   "id": "54c15c17-9cf2-4700-90cc-754c99c61749",
   "metadata": {},
   "outputs": [
    {
     "data": {
      "text/plain": [
       "(3098511.25, 8.0)"
      ]
     },
     "execution_count": 49,
     "metadata": {},
     "output_type": "execute_result"
    }
   ],
   "source": [
    "np.var(high_spreed), np.var(low_spreed)"
   ]
  },
  {
   "cell_type": "code",
   "execution_count": 50,
   "id": "8c01b03b-65ca-48c5-8357-fbf8ca146c0c",
   "metadata": {},
   "outputs": [
    {
     "data": {
      "text/plain": [
       "(1760.2588588045794, 2.8284271247461903)"
      ]
     },
     "execution_count": 50,
     "metadata": {},
     "output_type": "execute_result"
    }
   ],
   "source": [
    "np.std(high_spreed), np.std(low_spreed)"
   ]
  },
  {
   "cell_type": "code",
   "execution_count": 51,
   "id": "9abf92f2-55bd-443a-82b4-1e089a90e407",
   "metadata": {},
   "outputs": [
    {
     "data": {
      "text/plain": [
       "<function matplotlib.pyplot.show(close=None, block=None)>"
      ]
     },
     "execution_count": 51,
     "metadata": {},
     "output_type": "execute_result"
    },
    {
     "data": {
      "image/png": "[encoded data removed]",
      "text/plain": [
       "<Figure size 640x480 with 1 Axes>"
      ]
     },
     "metadata": {},
     "output_type": "display_data"
    }
   ],
   "source": [
    "%matplotlib inline\n",
    "import matplotlib.pyplot as plt\n",
    "\n",
    "plt.hist(high_spreed)\n",
    "plt.show"
   ]
  },
  {
   "cell_type": "code",
   "execution_count": 52,
   "id": "313ece40-2fef-4433-885e-19f91f650055",
   "metadata": {},
   "outputs": [
    {
     "data": {
      "text/plain": [
       "<function matplotlib.pyplot.show(close=None, block=None)>"
      ]
     },
     "execution_count": 52,
     "metadata": {},
     "output_type": "execute_result"
    },
    {
     "data": {
      "image/png": "[encoded data removed]",
      "text/plain": [
       "<Figure size 640x480 with 1 Axes>"
      ]
     },
     "metadata": {},
     "output_type": "display_data"
    }
   ],
   "source": [
    "plt.hist(low_spreed)\n",
    "plt.show"
   ]
  },
  {
   "cell_type": "markdown",
   "id": "c2bf3d4f-f02b-4c5e-998b-acbb56c19537",
   "metadata": {},
   "source": [
    "### Reshaping and trasposing"
   ]
  },
  {
   "cell_type": "code",
   "execution_count": 53,
   "id": "c1525f0a-9922-495d-af8f-eae4fd55795a",
   "metadata": {},
   "outputs": [
    {
     "data": {
      "text/plain": [
       "array([[1. , 2. , 3. ],\n",
       "       [2.3, 5. , 6. ]])"
      ]
     },
     "execution_count": 53,
     "metadata": {},
     "output_type": "execute_result"
    }
   ],
   "source": [
    "a2"
   ]
  },
  {
   "cell_type": "code",
   "execution_count": 54,
   "id": "99cac96c-2191-4f4d-88ee-4313fa9fb4f8",
   "metadata": {},
   "outputs": [
    {
     "data": {
      "text/plain": [
       "(2, 3)"
      ]
     },
     "execution_count": 54,
     "metadata": {},
     "output_type": "execute_result"
    }
   ],
   "source": [
    "a2.shape"
   ]
  },
  {
   "cell_type": "code",
   "execution_count": 55,
   "id": "e05d7cb1-1994-45ae-bf99-c4e8e504ae18",
   "metadata": {},
   "outputs": [],
   "source": [
    "a2_reshape = a2.reshape(2,3,1)"
   ]
  },
  {
   "cell_type": "code",
   "execution_count": 56,
   "id": "79cac840-1bb5-47d9-987c-53618ef37adb",
   "metadata": {},
   "outputs": [
    {
     "data": {
      "text/plain": [
       "(2, 3, 1)"
      ]
     },
     "execution_count": 56,
     "metadata": {},
     "output_type": "execute_result"
    }
   ],
   "source": [
    "a2_reshape.shape"
   ]
  },
  {
   "cell_type": "code",
   "execution_count": 57,
   "id": "d631335a-a444-4a64-ac49-4d07870d6805",
   "metadata": {},
   "outputs": [
    {
     "data": {
      "text/plain": [
       "array([[[ 1. ,  2. ,  3. ],\n",
       "        [ 4. ,  6. ,  8. ],\n",
       "        [ 9. , 12. , 15. ]],\n",
       "\n",
       "       [[ 9.2, 11.5, 13.8],\n",
       "        [25. , 30. , 35. ],\n",
       "        [36. , 42. , 48. ]]])"
      ]
     },
     "execution_count": 57,
     "metadata": {},
     "output_type": "execute_result"
    }
   ],
   "source": [
    "a2_reshape * a3"
   ]
  },
  {
   "cell_type": "code",
   "execution_count": 58,
   "id": "d5d548a0-ae24-42cb-b005-8b9b49088847",
   "metadata": {},
   "outputs": [
    {
     "data": {
      "text/plain": [
       "array([[1. , 2. , 3. ],\n",
       "       [2.3, 5. , 6. ]])"
      ]
     },
     "execution_count": 58,
     "metadata": {},
     "output_type": "execute_result"
    }
   ],
   "source": [
    "#Trasposing\n",
    "a2"
   ]
  },
  {
   "cell_type": "code",
   "execution_count": 59,
   "id": "06a82936-1df9-4fbc-ab19-688d6135bf71",
   "metadata": {},
   "outputs": [
    {
     "data": {
      "text/plain": [
       "array([[1. , 2.3],\n",
       "       [2. , 5. ],\n",
       "       [3. , 6. ]])"
      ]
     },
     "execution_count": 59,
     "metadata": {},
     "output_type": "execute_result"
    }
   ],
   "source": [
    "a2.T"
   ]
  },
  {
   "cell_type": "markdown",
   "id": "44a05100-2a8c-425a-95f2-5e275c0b414c",
   "metadata": {},
   "source": [
    "## Dot Product"
   ]
  },
  {
   "cell_type": "code",
   "execution_count": 60,
   "id": "cda97067-f657-49f7-bb71-d57b24b6ec8a",
   "metadata": {},
   "outputs": [],
   "source": [
    "mat1 = np.random.randint(10, size=(5,3))\n",
    "mat2 = np.random.randint(10, size=(5,3))"
   ]
  },
  {
   "cell_type": "code",
   "execution_count": 61,
   "id": "37aebea2-3bb7-4744-92ce-bff2b3d5b923",
   "metadata": {},
   "outputs": [
    {
     "data": {
      "text/plain": [
       "array([[1, 6, 1],\n",
       "       [1, 7, 3],\n",
       "       [7, 1, 8],\n",
       "       [8, 0, 3],\n",
       "       [8, 6, 9]])"
      ]
     },
     "execution_count": 61,
     "metadata": {},
     "output_type": "execute_result"
    }
   ],
   "source": [
    "mat1"
   ]
  },
  {
   "cell_type": "code",
   "execution_count": 62,
   "id": "da8177dd-b38d-48a3-a555-21b07e8ff46c",
   "metadata": {},
   "outputs": [
    {
     "data": {
      "text/plain": [
       "array([[7, 9, 7],\n",
       "       [7, 4, 5],\n",
       "       [1, 3, 0],\n",
       "       [1, 4, 6],\n",
       "       [0, 0, 4]])"
      ]
     },
     "execution_count": 62,
     "metadata": {},
     "output_type": "execute_result"
    }
   ],
   "source": [
    "mat2"
   ]
  },
  {
   "cell_type": "code",
   "execution_count": 63,
   "id": "d7042186-4a09-4328-8c27-7b446d0e5e0b",
   "metadata": {},
   "outputs": [
    {
     "data": {
      "text/plain": [
       "((5, 3), (5, 3))"
      ]
     },
     "execution_count": 63,
     "metadata": {},
     "output_type": "execute_result"
    }
   ],
   "source": [
    "mat1.shape, mat2.shape"
   ]
  },
  {
   "cell_type": "code",
   "execution_count": 64,
   "id": "d24f8645-3711-4c9b-bb0f-84d363de1b03",
   "metadata": {},
   "outputs": [
    {
     "data": {
      "text/plain": [
       "array([[ 7, 54,  7],\n",
       "       [ 7, 28, 15],\n",
       "       [ 7,  3,  0],\n",
       "       [ 8,  0, 18],\n",
       "       [ 0,  0, 36]])"
      ]
     },
     "execution_count": 64,
     "metadata": {},
     "output_type": "execute_result"
    }
   ],
   "source": [
    "#Hadamart product\n",
    "mat1 * mat2"
   ]
  },
  {
   "cell_type": "code",
   "execution_count": 65,
   "id": "dc6a4f7e-d7cb-4f63-9781-f2510fdfb995",
   "metadata": {},
   "outputs": [
    {
     "ename": "ValueError",
     "evalue": "shapes (5,3) and (5,3) not aligned: 3 (dim 1) != 5 (dim 0)",
     "output_type": "error",
     "traceback": [
      "\u001b[1;31m---------------------------------------------------------------------------\u001b[0m",
      "\u001b[1;31mValueError\u001b[0m                                Traceback (most recent call last)",
      "Cell \u001b[1;32mIn[65], line 1\u001b[0m\n\u001b[1;32m----> 1\u001b[0m np\u001b[38;5;241m.\u001b[39mdot(mat1, mat2)\n",
      "\u001b[1;31mValueError\u001b[0m: shapes (5,3) and (5,3) not aligned: 3 (dim 1) != 5 (dim 0)"
     ]
    }
   ],
   "source": [
    "np.dot(mat1, mat2)"
   ]
  },
  {
   "cell_type": "code",
   "execution_count": 66,
   "id": "7984112a-13b8-437c-b452-99277c022e6a",
   "metadata": {},
   "outputs": [],
   "source": [
    "mat2_t = mat2.T"
   ]
  },
  {
   "cell_type": "code",
   "execution_count": 67,
   "id": "e3f716dc-a263-4d46-bd94-6ef8a0aca51f",
   "metadata": {},
   "outputs": [
    {
     "data": {
      "text/plain": [
       "(3, 5)"
      ]
     },
     "execution_count": 67,
     "metadata": {},
     "output_type": "execute_result"
    }
   ],
   "source": [
    "mat2_t.shape"
   ]
  },
  {
   "cell_type": "code",
   "execution_count": 69,
   "id": "20dceca1-1309-462c-953b-164ee0bbebf7",
   "metadata": {},
   "outputs": [
    {
     "data": {
      "text/plain": [
       "(array([[7, 7, 1, 1, 0],\n",
       "        [9, 4, 3, 4, 0],\n",
       "        [7, 5, 0, 6, 4]]),\n",
       " array([[1, 6, 1],\n",
       "        [1, 7, 3],\n",
       "        [7, 1, 8],\n",
       "        [8, 0, 3],\n",
       "        [8, 6, 9]]))"
      ]
     },
     "execution_count": 69,
     "metadata": {},
     "output_type": "execute_result"
    }
   ],
   "source": [
    "mat2_t, mat1"
   ]
  },
  {
   "cell_type": "code",
   "execution_count": 71,
   "id": "58728be3-ce05-4a6b-a0dd-599d9fc0cdbb",
   "metadata": {},
   "outputs": [
    {
     "data": {
      "text/plain": [
       "array([[ 68,  36,  19,  31,   4],\n",
       "       [ 91,  50,  22,  47,  12],\n",
       "       [114,  93,  10,  59,  32],\n",
       "       [ 77,  71,   8,  26,  12],\n",
       "       [173, 125,  26,  86,  36]])"
      ]
     },
     "execution_count": 71,
     "metadata": {},
     "output_type": "execute_result"
    }
   ],
   "source": [
    "np.dot(mat1, mat2_t)"
   ]
  },
  {
   "cell_type": "markdown",
   "id": "4d274dc1-2734-4d78-9984-8c129b554fad",
   "metadata": {},
   "source": [
    "## Dot Product example (nut butter sales)"
   ]
  },
  {
   "cell_type": "code",
   "execution_count": 73,
   "id": "8e1a4d35-91c7-429e-a2c9-e24921d8da6f",
   "metadata": {},
   "outputs": [],
   "source": [
    "np.random.seed(0)"
   ]
  },
  {
   "cell_type": "code",
   "execution_count": 75,
   "id": "6f38e8c8-f599-47eb-ac14-c7981cf61c9b",
   "metadata": {},
   "outputs": [],
   "source": [
    "sales = np.random.randint(20, size=(5,3))\n",
    "cost = np.random.randint(15, size=(3,1))"
   ]
  },
  {
   "cell_type": "code",
   "execution_count": 76,
   "id": "c4d8e5ae-39cb-4fb7-b6e4-58e079d38100",
   "metadata": {},
   "outputs": [
    {
     "data": {
      "text/plain": [
       "array([[14, 17,  5],\n",
       "       [13,  8,  9],\n",
       "       [19, 16, 19],\n",
       "       [ 5, 15, 15],\n",
       "       [ 0, 18,  3]])"
      ]
     },
     "execution_count": 76,
     "metadata": {},
     "output_type": "execute_result"
    }
   ],
   "source": [
    "sales"
   ]
  },
  {
   "cell_type": "code",
   "execution_count": 81,
   "id": "7b1f80ed-390e-4185-b15e-19cb321d506e",
   "metadata": {},
   "outputs": [
    {
     "data": {
      "text/plain": [
       "array([[8],\n",
       "       [1],\n",
       "       [3]])"
      ]
     },
     "execution_count": 81,
     "metadata": {},
     "output_type": "execute_result"
    }
   ],
   "source": [
    "cost"
   ]
  },
  {
   "cell_type": "code",
   "execution_count": 82,
   "id": "0bf06422-c46e-42e9-b4ab-e3f8e89ec13e",
   "metadata": {},
   "outputs": [],
   "source": [
    "weekly_sales = pd.DataFrame(sales, index=[\"Mon\", \"Tue\", \"Wen\", \"Thu\", \"Fri\"], columns=[\"Almond\", \"Peanut\", \"Cashew\"] )"
   ]
  },
  {
   "cell_type": "code",
   "execution_count": 83,
   "id": "c819f01e-3447-42db-bc05-67a5d9f9e70e",
   "metadata": {},
   "outputs": [
    {
     "data": {
      "text/html": [
       "<div>\n",
       "<style scoped>\n",
       "    .dataframe tbody tr th:only-of-type {\n",
       "        vertical-align: middle;\n",
       "    }\n",
       "\n",
       "    .dataframe tbody tr th {\n",
       "        vertical-align: top;\n",
       "    }\n",
       "\n",
       "    .dataframe thead th {\n",
       "        text-align: right;\n",
       "    }\n",
       "</style>\n",
       "<table border=\"1\" class=\"dataframe\">\n",
       "  <thead>\n",
       "    <tr style=\"text-align: right;\">\n",
       "      <th></th>\n",
       "      <th>Almond</th>\n",
       "      <th>Peanut</th>\n",
       "      <th>Cashew</th>\n",
       "    </tr>\n",
       "  </thead>\n",
       "  <tbody>\n",
       "    <tr>\n",
       "      <th>Mon</th>\n",
       "      <td>14</td>\n",
       "      <td>17</td>\n",
       "      <td>5</td>\n",
       "    </tr>\n",
       "    <tr>\n",
       "      <th>Tue</th>\n",
       "      <td>13</td>\n",
       "      <td>8</td>\n",
       "      <td>9</td>\n",
       "    </tr>\n",
       "    <tr>\n",
       "      <th>Wen</th>\n",
       "      <td>19</td>\n",
       "      <td>16</td>\n",
       "      <td>19</td>\n",
       "    </tr>\n",
       "    <tr>\n",
       "      <th>Thu</th>\n",
       "      <td>5</td>\n",
       "      <td>15</td>\n",
       "      <td>15</td>\n",
       "    </tr>\n",
       "    <tr>\n",
       "      <th>Fri</th>\n",
       "      <td>0</td>\n",
       "      <td>18</td>\n",
       "      <td>3</td>\n",
       "    </tr>\n",
       "  </tbody>\n",
       "</table>\n",
       "</div>"
      ],
      "text/plain": [
       "     Almond  Peanut  Cashew\n",
       "Mon      14      17       5\n",
       "Tue      13       8       9\n",
       "Wen      19      16      19\n",
       "Thu       5      15      15\n",
       "Fri       0      18       3"
      ]
     },
     "execution_count": 83,
     "metadata": {},
     "output_type": "execute_result"
    }
   ],
   "source": [
    "weekly_sales"
   ]
  },
  {
   "cell_type": "code",
   "execution_count": 93,
   "id": "c6599cbb-ff6b-4c15-8f29-9d3ea908aff0",
   "metadata": {},
   "outputs": [],
   "source": [
    "product_cost = pd.DataFrame(cost, index=[\"Almond\", \"Peanut\", \"Cashew\"])"
   ]
  },
  {
   "cell_type": "code",
   "execution_count": 94,
   "id": "0a2d846f-0c55-43e3-9b42-4228e157a738",
   "metadata": {},
   "outputs": [
    {
     "data": {
      "text/html": [
       "<div>\n",
       "<style scoped>\n",
       "    .dataframe tbody tr th:only-of-type {\n",
       "        vertical-align: middle;\n",
       "    }\n",
       "\n",
       "    .dataframe tbody tr th {\n",
       "        vertical-align: top;\n",
       "    }\n",
       "\n",
       "    .dataframe thead th {\n",
       "        text-align: right;\n",
       "    }\n",
       "</style>\n",
       "<table border=\"1\" class=\"dataframe\">\n",
       "  <thead>\n",
       "    <tr style=\"text-align: right;\">\n",
       "      <th></th>\n",
       "      <th>0</th>\n",
       "    </tr>\n",
       "  </thead>\n",
       "  <tbody>\n",
       "    <tr>\n",
       "      <th>Almond</th>\n",
       "      <td>8</td>\n",
       "    </tr>\n",
       "    <tr>\n",
       "      <th>Peanut</th>\n",
       "      <td>1</td>\n",
       "    </tr>\n",
       "    <tr>\n",
       "      <th>Cashew</th>\n",
       "      <td>3</td>\n",
       "    </tr>\n",
       "  </tbody>\n",
       "</table>\n",
       "</div>"
      ],
      "text/plain": [
       "        0\n",
       "Almond  8\n",
       "Peanut  1\n",
       "Cashew  3"
      ]
     },
     "execution_count": 94,
     "metadata": {},
     "output_type": "execute_result"
    }
   ],
   "source": [
    "product_cost"
   ]
  },
  {
   "cell_type": "code",
   "execution_count": 88,
   "id": "21df2cd4-6785-4b5f-aa09-7ed24f11256b",
   "metadata": {},
   "outputs": [],
   "source": [
    "total_amount = pd.DataFrame(np.dot(weekly_sales, product_cost), index=[\"Mon\", \"Tue\", \"Wen\", \"Thu\", \"Fri\"], columns=[\"Total $\"])"
   ]
  },
  {
   "cell_type": "code",
   "execution_count": 89,
   "id": "ead09066-9ba0-4dc1-9359-691608511e01",
   "metadata": {},
   "outputs": [
    {
     "data": {
      "text/html": [
       "<div>\n",
       "<style scoped>\n",
       "    .dataframe tbody tr th:only-of-type {\n",
       "        vertical-align: middle;\n",
       "    }\n",
       "\n",
       "    .dataframe tbody tr th {\n",
       "        vertical-align: top;\n",
       "    }\n",
       "\n",
       "    .dataframe thead th {\n",
       "        text-align: right;\n",
       "    }\n",
       "</style>\n",
       "<table border=\"1\" class=\"dataframe\">\n",
       "  <thead>\n",
       "    <tr style=\"text-align: right;\">\n",
       "      <th></th>\n",
       "      <th>Total $</th>\n",
       "    </tr>\n",
       "  </thead>\n",
       "  <tbody>\n",
       "    <tr>\n",
       "      <th>Mon</th>\n",
       "      <td>144</td>\n",
       "    </tr>\n",
       "    <tr>\n",
       "      <th>Tue</th>\n",
       "      <td>139</td>\n",
       "    </tr>\n",
       "    <tr>\n",
       "      <th>Wen</th>\n",
       "      <td>225</td>\n",
       "    </tr>\n",
       "    <tr>\n",
       "      <th>Thu</th>\n",
       "      <td>100</td>\n",
       "    </tr>\n",
       "    <tr>\n",
       "      <th>Fri</th>\n",
       "      <td>27</td>\n",
       "    </tr>\n",
       "  </tbody>\n",
       "</table>\n",
       "</div>"
      ],
      "text/plain": [
       "     Total $\n",
       "Mon      144\n",
       "Tue      139\n",
       "Wen      225\n",
       "Thu      100\n",
       "Fri       27"
      ]
     },
     "execution_count": 89,
     "metadata": {},
     "output_type": "execute_result"
    }
   ],
   "source": [
    "total_amount"
   ]
  },
  {
   "cell_type": "code",
   "execution_count": 96,
   "id": "a9c1308d-a1c0-481e-b0a8-95380f166d2f",
   "metadata": {},
   "outputs": [],
   "source": [
    "weekly_sales.loc[:, \"Total $\"] = total_amount"
   ]
  },
  {
   "cell_type": "code",
   "execution_count": 97,
   "id": "c71c542e-fa76-4378-aa80-186017fb8347",
   "metadata": {},
   "outputs": [
    {
     "data": {
      "text/html": [
       "<div>\n",
       "<style scoped>\n",
       "    .dataframe tbody tr th:only-of-type {\n",
       "        vertical-align: middle;\n",
       "    }\n",
       "\n",
       "    .dataframe tbody tr th {\n",
       "        vertical-align: top;\n",
       "    }\n",
       "\n",
       "    .dataframe thead th {\n",
       "        text-align: right;\n",
       "    }\n",
       "</style>\n",
       "<table border=\"1\" class=\"dataframe\">\n",
       "  <thead>\n",
       "    <tr style=\"text-align: right;\">\n",
       "      <th></th>\n",
       "      <th>Almond</th>\n",
       "      <th>Peanut</th>\n",
       "      <th>Cashew</th>\n",
       "      <th>Total $</th>\n",
       "    </tr>\n",
       "  </thead>\n",
       "  <tbody>\n",
       "    <tr>\n",
       "      <th>Mon</th>\n",
       "      <td>14</td>\n",
       "      <td>17</td>\n",
       "      <td>5</td>\n",
       "      <td>144</td>\n",
       "    </tr>\n",
       "    <tr>\n",
       "      <th>Tue</th>\n",
       "      <td>13</td>\n",
       "      <td>8</td>\n",
       "      <td>9</td>\n",
       "      <td>139</td>\n",
       "    </tr>\n",
       "    <tr>\n",
       "      <th>Wen</th>\n",
       "      <td>19</td>\n",
       "      <td>16</td>\n",
       "      <td>19</td>\n",
       "      <td>225</td>\n",
       "    </tr>\n",
       "    <tr>\n",
       "      <th>Thu</th>\n",
       "      <td>5</td>\n",
       "      <td>15</td>\n",
       "      <td>15</td>\n",
       "      <td>100</td>\n",
       "    </tr>\n",
       "    <tr>\n",
       "      <th>Fri</th>\n",
       "      <td>0</td>\n",
       "      <td>18</td>\n",
       "      <td>3</td>\n",
       "      <td>27</td>\n",
       "    </tr>\n",
       "  </tbody>\n",
       "</table>\n",
       "</div>"
      ],
      "text/plain": [
       "     Almond  Peanut  Cashew  Total $\n",
       "Mon      14      17       5      144\n",
       "Tue      13       8       9      139\n",
       "Wen      19      16      19      225\n",
       "Thu       5      15      15      100\n",
       "Fri       0      18       3       27"
      ]
     },
     "execution_count": 97,
     "metadata": {},
     "output_type": "execute_result"
    }
   ],
   "source": [
    "weekly_sales"
   ]
  },
  {
   "cell_type": "markdown",
   "id": "d7803aed-9daf-41f7-af1d-7ec26ff3c1f7",
   "metadata": {},
   "source": [
    "## Comparison operators"
   ]
  },
  {
   "cell_type": "code",
   "execution_count": 98,
   "id": "3f96613f-f6a2-435e-918b-a6e69f909933",
   "metadata": {},
   "outputs": [
    {
     "data": {
      "text/plain": [
       "array([1, 2, 4])"
      ]
     },
     "execution_count": 98,
     "metadata": {},
     "output_type": "execute_result"
    }
   ],
   "source": [
    "a1"
   ]
  },
  {
   "cell_type": "code",
   "execution_count": 99,
   "id": "25aeaf0d-6221-46e5-b086-009b4e9bda56",
   "metadata": {},
   "outputs": [
    {
     "data": {
      "text/plain": [
       "array([[1. , 2. , 3. ],\n",
       "       [2.3, 5. , 6. ]])"
      ]
     },
     "execution_count": 99,
     "metadata": {},
     "output_type": "execute_result"
    }
   ],
   "source": [
    "a2"
   ]
  },
  {
   "cell_type": "code",
   "execution_count": 100,
   "id": "1d14f2cc-4d4e-40bc-adc7-a66a899789aa",
   "metadata": {},
   "outputs": [
    {
     "data": {
      "text/plain": [
       "array([[False, False,  True],\n",
       "       [False, False, False]])"
      ]
     },
     "execution_count": 100,
     "metadata": {},
     "output_type": "execute_result"
    }
   ],
   "source": [
    "a1 > a2"
   ]
  },
  {
   "cell_type": "markdown",
   "id": "e385c0f8-ed86-4350-b565-c61c19429ebb",
   "metadata": {},
   "source": [
    "## Sorting arrays"
   ]
  },
  {
   "cell_type": "code",
   "execution_count": 101,
   "id": "4d439189-1e30-4286-9ddb-689d8c29a852",
   "metadata": {},
   "outputs": [],
   "source": [
    "array_sort = np.random.randint(10, size=(5,3))"
   ]
  },
  {
   "cell_type": "code",
   "execution_count": 102,
   "id": "05322c9c-7930-4a05-adad-ba24490f33d1",
   "metadata": {},
   "outputs": [
    {
     "data": {
      "text/plain": [
       "array([[3, 3, 7],\n",
       "       [0, 1, 9],\n",
       "       [9, 0, 4],\n",
       "       [7, 3, 2],\n",
       "       [7, 2, 0]])"
      ]
     },
     "execution_count": 102,
     "metadata": {},
     "output_type": "execute_result"
    }
   ],
   "source": [
    "array_sort"
   ]
  },
  {
   "cell_type": "code",
   "execution_count": 103,
   "id": "c43a4176-bdcf-4dfc-9d71-46310355eab1",
   "metadata": {},
   "outputs": [
    {
     "data": {
      "text/plain": [
       "array([[3, 3, 7],\n",
       "       [0, 1, 9],\n",
       "       [0, 4, 9],\n",
       "       [2, 3, 7],\n",
       "       [0, 2, 7]])"
      ]
     },
     "execution_count": 103,
     "metadata": {},
     "output_type": "execute_result"
    }
   ],
   "source": [
    "np.sort(array_sort)"
   ]
  },
  {
   "cell_type": "code",
   "execution_count": 104,
   "id": "08abe228-5a51-4eef-9bf8-547a28ebfb34",
   "metadata": {},
   "outputs": [],
   "source": [
    "array_sort = np.random.randint(10, size=(3, 13))"
   ]
  },
  {
   "cell_type": "code",
   "execution_count": 105,
   "id": "97d38335-6e8e-4d45-93a3-811361390873",
   "metadata": {},
   "outputs": [
    {
     "data": {
      "text/plain": [
       "array([[0, 4, 5, 5, 6, 8, 4, 1, 4, 9, 8, 1, 1],\n",
       "       [7, 9, 9, 3, 6, 7, 2, 0, 3, 5, 9, 4, 4],\n",
       "       [6, 4, 4, 3, 4, 4, 8, 4, 3, 7, 5, 5, 0]])"
      ]
     },
     "execution_count": 105,
     "metadata": {},
     "output_type": "execute_result"
    }
   ],
   "source": [
    "array_sort"
   ]
  },
  {
   "cell_type": "code",
   "execution_count": 106,
   "id": "4002166c-335b-4b46-8765-3101dfa79cca",
   "metadata": {},
   "outputs": [
    {
     "data": {
      "text/plain": [
       "array([[0, 1, 1, 1, 4, 4, 4, 5, 5, 6, 8, 8, 9],\n",
       "       [0, 2, 3, 3, 4, 4, 5, 6, 7, 7, 9, 9, 9],\n",
       "       [0, 3, 3, 4, 4, 4, 4, 4, 5, 5, 6, 7, 8]])"
      ]
     },
     "execution_count": 106,
     "metadata": {},
     "output_type": "execute_result"
    }
   ],
   "source": [
    "np.sort(array_sort)"
   ]
  },
  {
   "cell_type": "code",
   "execution_count": 108,
   "id": "38735f6b-3398-4bb2-b160-c69874f792ec",
   "metadata": {},
   "outputs": [
    {
     "data": {
      "text/plain": [
       "array([[ 0,  7, 11, 12,  1,  6,  8,  2,  3,  4,  5, 10,  9],\n",
       "       [ 7,  6,  3,  8, 11, 12,  9,  4,  0,  5,  1,  2, 10],\n",
       "       [12,  3,  8,  1,  2,  4,  5,  7, 10, 11,  0,  9,  6]], dtype=int64)"
      ]
     },
     "execution_count": 108,
     "metadata": {},
     "output_type": "execute_result"
    }
   ],
   "source": [
    "#sorting the index position\n",
    "np.argsort(array_sort)"
   ]
  },
  {
   "cell_type": "code",
   "execution_count": 111,
   "id": "a984c292-27a5-412e-9cc5-db726d5e4cfd",
   "metadata": {},
   "outputs": [
    {
     "data": {
      "text/plain": [
       "9"
      ]
     },
     "execution_count": 111,
     "metadata": {},
     "output_type": "execute_result"
    }
   ],
   "source": [
    "np.argmax(array_sort)"
   ]
  },
  {
   "cell_type": "code",
   "execution_count": 110,
   "id": "7b6c070b-e34f-4e6d-9430-0e2d4b7b7626",
   "metadata": {},
   "outputs": [
    {
     "data": {
      "text/plain": [
       "0"
      ]
     },
     "execution_count": 110,
     "metadata": {},
     "output_type": "execute_result"
    }
   ],
   "source": [
    "np.argmin(array_sort)"
   ]
  },
  {
   "cell_type": "markdown",
   "id": "aa5cee77-062b-49e0-8cdc-9a853c4c7bc6",
   "metadata": {},
   "source": [
    "## Pratical Example "
   ]
  },
  {
   "cell_type": "markdown",
   "id": "0a054984-ece5-46f8-8c3d-c7e83c263bd5",
   "metadata": {},
   "source": [
    "<img src=\"images/panda.png\" />"
   ]
  },
  {
   "cell_type": "code",
   "execution_count": 119,
   "id": "fc953979-9e46-4d11-927e-907a3f3acd3d",
   "metadata": {},
   "outputs": [],
   "source": [
    "from matplotlib.image import imread"
   ]
  },
  {
   "cell_type": "code",
   "execution_count": 120,
   "id": "56e06c1c-bcc1-40ad-900c-5f13b7877f42",
   "metadata": {},
   "outputs": [],
   "source": [
    "panda = imread(\"images/panda.png\")"
   ]
  },
  {
   "cell_type": "code",
   "execution_count": 121,
   "id": "2305fbc5-21c6-489d-a371-282e11476bbe",
   "metadata": {},
   "outputs": [
    {
     "data": {
      "text/plain": [
       "array([[[0.05490196, 0.10588235, 0.06666667],\n",
       "        [0.05490196, 0.10588235, 0.06666667],\n",
       "        [0.05490196, 0.10588235, 0.06666667],\n",
       "        ...,\n",
       "        [0.16470589, 0.12941177, 0.09411765],\n",
       "        [0.16470589, 0.12941177, 0.09411765],\n",
       "        [0.16470589, 0.12941177, 0.09411765]],\n",
       "\n",
       "       [[0.05490196, 0.10588235, 0.06666667],\n",
       "        [0.05490196, 0.10588235, 0.06666667],\n",
       "        [0.05490196, 0.10588235, 0.06666667],\n",
       "        ...,\n",
       "        [0.16470589, 0.12941177, 0.09411765],\n",
       "        [0.16470589, 0.12941177, 0.09411765],\n",
       "        [0.16470589, 0.12941177, 0.09411765]],\n",
       "\n",
       "       [[0.05490196, 0.10588235, 0.06666667],\n",
       "        [0.05490196, 0.10588235, 0.06666667],\n",
       "        [0.05490196, 0.10588235, 0.06666667],\n",
       "        ...,\n",
       "        [0.16470589, 0.12941177, 0.09411765],\n",
       "        [0.16470589, 0.12941177, 0.09411765],\n",
       "        [0.16470589, 0.12941177, 0.09411765]],\n",
       "\n",
       "       ...,\n",
       "\n",
       "       [[0.13333334, 0.07450981, 0.05490196],\n",
       "        [0.12156863, 0.0627451 , 0.04313726],\n",
       "        [0.10980392, 0.05098039, 0.03137255],\n",
       "        ...,\n",
       "        [0.02745098, 0.02745098, 0.03529412],\n",
       "        [0.02745098, 0.02745098, 0.03529412],\n",
       "        [0.02745098, 0.02745098, 0.03529412]],\n",
       "\n",
       "       [[0.13333334, 0.07450981, 0.05490196],\n",
       "        [0.12156863, 0.0627451 , 0.04313726],\n",
       "        [0.12156863, 0.0627451 , 0.04313726],\n",
       "        ...,\n",
       "        [0.02352941, 0.02352941, 0.03137255],\n",
       "        [0.02352941, 0.02352941, 0.03137255],\n",
       "        [0.02352941, 0.02352941, 0.03137255]],\n",
       "\n",
       "       [[0.13333334, 0.07450981, 0.05490196],\n",
       "        [0.12156863, 0.0627451 , 0.04313726],\n",
       "        [0.12156863, 0.0627451 , 0.04313726],\n",
       "        ...,\n",
       "        [0.02352941, 0.02352941, 0.03137255],\n",
       "        [0.02352941, 0.02352941, 0.03137255],\n",
       "        [0.02352941, 0.02352941, 0.03137255]]], dtype=float32)"
      ]
     },
     "execution_count": 121,
     "metadata": {},
     "output_type": "execute_result"
    }
   ],
   "source": [
    "panda"
   ]
  },
  {
   "cell_type": "code",
   "execution_count": 122,
   "id": "3869fd0a-65f9-4a0d-97a5-90ed0f6c62a2",
   "metadata": {},
   "outputs": [
    {
     "data": {
      "text/plain": [
       "(24465000, (2330, 3500, 3))"
      ]
     },
     "execution_count": 122,
     "metadata": {},
     "output_type": "execute_result"
    }
   ],
   "source": [
    "panda.size, panda.shape"
   ]
  },
  {
   "cell_type": "code",
   "execution_count": null,
   "id": "179bdb5d-357c-4462-923d-16e741db6faf",
   "metadata": {},
   "outputs": [],
   "source": []
  }
 ],
 "metadata": {
  "kernelspec": {
   "display_name": "Python 3 (ipykernel)",
   "language": "python",
   "name": "python3"
  },
  "language_info": {
   "codemirror_mode": {
    "name": "ipython",
    "version": 3
   },
   "file_extension": ".py",
   "mimetype": "text/x-python",
   "name": "python",
   "nbconvert_exporter": "python",
   "pygments_lexer": "ipython3",
   "version": "3.12.3"
  }
 },
 "nbformat": 4,
 "nbformat_minor": 5
}
